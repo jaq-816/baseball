{
 "cells": [
  {
   "cell_type": "markdown",
   "id": "a2cce026-2a36-4a34-8ef2-ce8fdc1d48d2",
   "metadata": {
    "tags": []
   },
   "source": [
    "## Baseball Simulator"
   ]
  },
  {
   "cell_type": "markdown",
   "id": "62f332d6-76ee-469c-af58-78d0f3fc0cd5",
   "metadata": {
    "tags": []
   },
   "source": [
    "#### Import modules"
   ]
  },
  {
   "cell_type": "code",
   "execution_count": 74,
   "id": "4a43ddb7-a1b0-47eb-a6d1-092b22cf6099",
   "metadata": {},
   "outputs": [],
   "source": [
    "import math\n",
    "from math import sqrt, sin, cos, tan\n",
    "from scipy.stats import poisson\n",
    "import matplotlib.pyplot as plt\n",
    "import numpy as np\n",
    "import random\n",
    "%matplotlib inline"
   ]
  },
  {
   "cell_type": "markdown",
   "id": "eba7747a-48e7-41a8-8956-173a16f1e448",
   "metadata": {
    "tags": []
   },
   "source": [
    "#### Define physical properties"
   ]
  },
  {
   "cell_type": "code",
   "execution_count": 65,
   "id": "1c24fe8d-04a2-490e-80ca-012ea47bf8c3",
   "metadata": {},
   "outputs": [],
   "source": [
    "# Physical Properties and Conversions\n",
    "g = 9.81\n",
    "pi = math.pi\n",
    "\n",
    "def convert_mph(mph):\n",
    "    \"\"\"Converts mph to meters per second.\"\"\"\n",
    "    return mph * 0.44704\n",
    "\n",
    "def convert_meters_ps(mps):\n",
    "    \"\"\"Converst meters per second to mph.\"\"\"\n",
    "    return mps / 0.44704\n",
    "\n",
    "def convert_feet(feet):\n",
    "    \"\"\"Converts fee to meters.\"\"\"\n",
    "    return feet * 0.3048\n",
    "\n",
    "def convert_meters(meters):\n",
    "    \"\"\"Converts meters to feet.\"\"\"\n",
    "    return meters / 0.3048\n",
    "\n",
    "def convert_to_radians(degrees):\n",
    "    \"\"\"Converts degrees to radians.\"\"\"\n",
    "    return degrees * pi / 180\n",
    "\n",
    "def convert_to_degrees(radians):\n",
    "    \"\"\"Converts radians to degrees.\"\"\"\n",
    "    return radians / pi * 180"
   ]
  },
  {
   "cell_type": "markdown",
   "id": "823b28a4-28f8-4e88-a609-a1b8a07f5d78",
   "metadata": {
    "tags": []
   },
   "source": [
    "#### Define Lineup class"
   ]
  },
  {
   "cell_type": "code",
   "execution_count": 161,
   "id": "86d138e6-9831-43f2-bccd-a8dea9cc1ace",
   "metadata": {},
   "outputs": [],
   "source": [
    "class Lineup:\n",
    "    def __init__(self):\n",
    "        self.pitcher = None\n",
    "        self.catcher = None\n",
    "        self.first = None\n",
    "        self.second = None\n",
    "        self.third = None\n",
    "        self.shortstop = None\n",
    "        self.right = None\n",
    "        self.center = None\n",
    "        self.left = None\n",
    "        self.dh = None\n",
    "        \n",
    "    def set_lineup(self):\n",
    "        self.lineup = []\n",
    "        return self.lineup\n",
    "    \n",
    "    def set_positions(self):\n",
    "        pass\n",
    "    \n",
    "positioning = {\n",
    "    'pitcher': (convert_feet(60) / sqrt(2), convert_feet(60) / sqrt(2), convert_feet(6)),\n",
    "    'catcher': (0, 0, 0),\n",
    "    'first': (0, 0, 0),\n",
    "    'second': (0, 0, 0),\n",
    "    'third': (0, 0, 0),\n",
    "    'shortstop': (0, 0, 0),\n",
    "    'right': (0, 0, 0),\n",
    "    'center': (0, 0, 0),\n",
    "    'left': (0, 0, 0)\n",
    "}"
   ]
  },
  {
   "cell_type": "markdown",
   "id": "20f9f2f2-5122-4978-99ad-c016cc47a5a3",
   "metadata": {
    "tags": []
   },
   "source": [
    "#### Define Position Player class"
   ]
  },
  {
   "cell_type": "code",
   "execution_count": 449,
   "id": "2b4571d8-2bce-4650-bc44-a6c9def89ab9",
   "metadata": {},
   "outputs": [],
   "source": [
    "class PositionPlayer:\n",
    "    def __init__(self, firstname=None, lastname=None, team=None, age=None, salary=None, position=None):\n",
    "        self.firstname = firstname\n",
    "        self.lastname = lastname\n",
    "        self.team = team\n",
    "        self.age = age\n",
    "        self.salary = salary\n",
    "        self.position = position\n",
    "        self.dominant_hand = \"Right\"\n",
    "        self.avg = 0.300\n",
    "        self.slugging = 0.600\n",
    "        self.obp = .400\n",
    "        self.contact = 0.50\n",
    "        self.plate_discipline = 0.90\n",
    "        self.running = convert_feet(27)\n",
    "        self.avg_exit_velocity = 85.0 # in mph\n",
    "        self.avg_launch_angle = 10 # in degrees\n",
    "        self.time_to_first = 0\n",
    "        self.time_to_second = 0\n",
    "        self.time_to_home = 0\n",
    "        self.time_to_steal = 0\n",
    "        self.fielding = 1.000\n",
    "        self.throwing = convert_mph(95)\n",
    "        self.fielding_position = None\n",
    "        self.fieldin_range = pi * self.running\n",
    "    \n",
    "    def swing(self, projectile):\n",
    "        # Select exit velocity\n",
    "        mu_exit_vel = convert_mph(self.avg_exit_velocity)\n",
    "        skew = -5\n",
    "        vels = skewnorm.rvs(a=skew, loc=mu_exit_vel, scale=1, size=10000)\n",
    "        projectile.exit_velocity = random.choice(vels)\n",
    "        \n",
    "        # Select launch angle\n",
    "        mu_launch = convert_to_radians(self.avg_launch_angle)\n",
    "        skew = 0\n",
    "        launch_angles = skewnorm.rvs(a=skew, loc=mu_launch, scale=1, size=10000)\n",
    "        projectile.launch_angle = random.choice(launch_angles)\n",
    "        \n",
    "        # Return exit velo and launch angle\n",
    "        return projectile.exit_velocity, projectile.launch_angle\n",
    "        \n",
    "    def react_to_pitch(self, projectile):\n",
    "        non_strike_penalty = 0.5\n",
    "        if projectile.in_strike_zone == False:\n",
    "            if random.uniform(0, 1) > self.plate_discipline:\n",
    "                if random.uniform(0, 1) > self.contact:\n",
    "                    exit_velocity, launch_angle = self.swing(projectile)\n",
    "                    projectile.destination = projectile.solve_x_distance(exit_velocity, launch_angle, 'metric') * non_strike_penalty\n",
    "                    print(f'Contact (out of zone, swing). Distance: {projectile.destination:.2f} feet | Exit Velo: {exit_velocity:.2f} mph | Launch angle: {launch_angle:.2f} degrees')\n",
    "                else:\n",
    "                    projectile.destination = 0\n",
    "                    print('Strike (out of zone, swing and miss)')\n",
    "            else:\n",
    "                projectile.destination = 0\n",
    "                print('Ball (out of zone, take)')\n",
    "        else:\n",
    "            if random.uniform(0, 1) > self.plate_discipline:\n",
    "                projectile.destination = 0\n",
    "                print('Strike (in zone, take)')\n",
    "            else:\n",
    "                if random.uniform(0, 1) > self.contact:\n",
    "                    exit_velocity, launch_angle = self.swing(projectile)\n",
    "                    projectile.destination = projectile.solve_x_distance(exit_velocity, launch_angle, 'metric')\n",
    "                    print(f'Contact (in zone, swing). Distance: {projectile.destination:.2f} feet | Exit Velo: {exit_velocity:.2f} mph | Launch angle: {launch_angle:.2f} degrees')\n",
    "                else:\n",
    "                    projectile.destination = 0\n",
    "                    print('Strike (in zone, swing and miss)')\n",
    "        return projectile\n",
    " \n",
    "    def steal(self, pitcher, catcher):\n",
    "        pass\n",
    "    \n",
    "    def throw(self, target_base):\n",
    "        pass\n",
    "    \n",
    "    def catch(self, ball):\n",
    "        ball.controlled = True\n",
    "\n"
   ]
  },
  {
   "cell_type": "markdown",
   "id": "7dc5ed78-2a56-4456-8463-efd9a2fdbe40",
   "metadata": {
    "tags": []
   },
   "source": [
    "#### Define Pitcher class"
   ]
  },
  {
   "cell_type": "code",
   "execution_count": 432,
   "id": "b89dd4f2-0fc7-47ce-80bd-8d723f44f5d9",
   "metadata": {},
   "outputs": [],
   "source": [
    "class Pitcher:\n",
    "    def __init__(self, firstname=None, lastname=None, team=None, age=None, salary=None, position=None):\n",
    "        self.firstname = firstname\n",
    "        self.lastname = lastname\n",
    "        self.team = team\n",
    "        self.age = age\n",
    "        self.salary = salary\n",
    "        self.position = position\n",
    "        self.dominant_hand = \"Right\"\n",
    "        self.velocity_mph = 90\n",
    "        self.spin_rate = 2400\n",
    "        self.accuracy = .95\n",
    "        self.fastball_perc = None\n",
    "        self.pitches = {\n",
    "            \"fastball\": {\"frequency\": 0.6, \"velocity_scaler\": 1.00, \"spin_scaler\": 1.00, \"accuracy_scaler\": 1.00}, \n",
    "            \"changup\": {\"frequency\": 0.2, \"velocity_scaler\": 0.80, \"spin_scaler\": 0.80, \"accuracy_scaler\": 0.95}, \n",
    "            \"slider\": {\"frequency\": 0.1, \"velocity_scaler\": 0.80, \"spin_scaler\": 1.20, \"accuracy_scaler\": 0.80}, \n",
    "            \"curveball\": {\"frequency\": 0.1, \"velocity_scaler\": 0.70, \"spin_scaler\": 1.20, \"accuracy_scaler\": 0.80}\n",
    "        }\n",
    "\n",
    "    def throw_pitch(self):\n",
    "        pitch = Projectile()\n",
    "        pitch_pop = list(p1.pitches.keys())\n",
    "        frq = [pitch_attributes['frequency'] for pitch_type, pitch_attributes in p1.pitches.items()]\n",
    "        pitch.pitch_type = random.choices(population=pitch_pop,\n",
    "                                         weights = frq,\n",
    "                                         k = 1)[0]\n",
    "        pitch_dic = self.pitches[pitch.pitch_type]\n",
    "        pitch.controlled = False\n",
    "        pitch.velocity = convert_mph(self.velocity_mph) * pitch_dic['velocity_scaler']\n",
    "        pitch.spin = self.spin_rate * pitch_dic['spin_scaler']\n",
    "        pitch.accuracy = self.accuracy * pitch_dic['accuracy_scaler']\n",
    "        if random.uniform(0, 1) < pitch.accuracy:\n",
    "            pitch.in_strike_zone = True\n",
    "        \n",
    "        print(f'Pitch type: {pitch.pitch_type}')\n",
    "        print(f'Spin rate: {pitch.spin:.2f} rpm')\n",
    "        print(f'Velocity: {pitch.velocity:.1f} mph')\n",
    "        print(f'Accuracy: {pitch.accuracy:.1%} accurate')\n",
    "        \n",
    "        return pitch"
   ]
  },
  {
   "cell_type": "markdown",
   "id": "8db49261-fecd-4802-9ac6-f2add2eabdb9",
   "metadata": {
    "tags": []
   },
   "source": [
    "#### Define Projectile class"
   ]
  },
  {
   "cell_type": "code",
   "execution_count": 447,
   "id": "f5ab5268-e261-45d9-b668-cedc71528f7e",
   "metadata": {},
   "outputs": [],
   "source": [
    "class Projectile:\n",
    "    def __init__(self):\n",
    "        \"\"\"\n",
    "        All distances in feet\n",
    "        Velocity in feet per second\n",
    "        \"\"\"\n",
    "        self.controlled = True\n",
    "        self.spin = None\n",
    "        self.velocity = None\n",
    "        self.pitch_type = None\n",
    "        self.accuracy = None\n",
    "        self.in_strike_zone = False\n",
    "        self.height = 0\n",
    "        self.exit_velocity = 0\n",
    "        self.destination = 0\n",
    "        self.launch_angle = 0\n",
    "        self.spray_angle = 45\n",
    "        \n",
    "    def x_displacement(x0, vx, t):\n",
    "        x = x0 + (vx * t)\n",
    "        return x\n",
    "\n",
    "    def y1_func(y0, vy0, vy, t):\n",
    "        y = y0 + (1/2 * (vy0 + vy) * t)\n",
    "        return y\n",
    "\n",
    "    def time_to_peak(vy0, vy):\n",
    "        t = (vy - vy0) / (-g)\n",
    "        return t\n",
    "\n",
    "    def y2_func(y0, vy0, t):\n",
    "        y = y0 + (vy0 * t) - (1/2 * g * t**2)\n",
    "        return y\n",
    "\n",
    "    def vysq_func(vy0, y, y0):\n",
    "        vysq = vy0**2 - (2 * g * (y - y0))\n",
    "        return vysq\n",
    "\n",
    "    def solve_x_distance(self, exit_velocity, launch_angle, measurement='imperial'):\n",
    "        \"\"\"\n",
    "        Inputs: exit velocity in mph and launch angle in degrees.\n",
    "        Outputs: horizontal distance traveled in the air.\n",
    "        \"\"\"\n",
    "        vel = convert_mph(self.exit_velocity) if measurement=='imperial' else self.exit_velocity\n",
    "        hgt = convert_feet(self.height) if measurement=='imperial' else self.height\n",
    "        theta = convert_to_radians(self.launch_angle) if measurement=='imperial' else self.launch_angle\n",
    "        vx0 = vel * cos(theta) # get x component of exit velocity\n",
    "        vy0 = vel * sin(theta) # get y component of exit velocity\n",
    "        t = 2 * time_to_peak(vy0, 0) # calculate total time in the air (at peak, vy = 0)\n",
    "        x = x_displacement(0, vx0, t) # calculate horizontal displacement based on time in the air\n",
    "        return x"
   ]
  },
  {
   "cell_type": "code",
   "execution_count": 448,
   "id": "df2816c3-7021-475d-923a-fdb37929416f",
   "metadata": {},
   "outputs": [
    {
     "name": "stdout",
     "output_type": "stream",
     "text": [
      "Pitch type: fastball\n",
      "Spin rate: 2400.00 rpm\n",
      "Velocity: 40.2 mph\n",
      "Accuracy: 95.0% accurate\n",
      "Contact (in zone, swing). Distance: 10.21 feet | Exit Velo: 38.04 mph | Launch angle: 0.03 degrees\n",
      "\n",
      "\n",
      "Pitch type: fastball\n",
      "Spin rate: 2400.00 rpm\n",
      "Velocity: 40.2 mph\n",
      "Accuracy: 95.0% accurate\n",
      "Contact (in zone, swing). Distance: -123.45 feet | Exit Velo: 37.64 mph | Launch angle: -0.51 degrees\n",
      "\n",
      "\n",
      "Pitch type: fastball\n",
      "Spin rate: 2400.00 rpm\n",
      "Velocity: 40.2 mph\n",
      "Accuracy: 95.0% accurate\n",
      "Strike (in zone, swing and miss)\n",
      "\n",
      "\n",
      "Pitch type: fastball\n",
      "Spin rate: 2400.00 rpm\n",
      "Velocity: 40.2 mph\n",
      "Accuracy: 95.0% accurate\n",
      "Contact (in zone, swing). Distance: 56.73 feet | Exit Velo: 37.42 mph | Launch angle: 0.20 degrees\n",
      "\n",
      "\n",
      "Pitch type: changup\n",
      "Spin rate: 1920.00 rpm\n",
      "Velocity: 32.2 mph\n",
      "Accuracy: 90.2% accurate\n",
      "Contact (in zone, swing). Distance: 124.13 feet | Exit Velo: 37.68 mph | Launch angle: 1.06 degrees\n",
      "\n",
      "\n"
     ]
    }
   ],
   "source": [
    "def simulate_pitch_outcome(batter, pitcher):\n",
    "    ball = pitcher.throw_pitch()\n",
    "    ball = batter.react_to_pitch(ball)\n",
    "    \n",
    "p1 = Pitcher()\n",
    "b1 = PositionPlayer()\n",
    "for _ in range(5):\n",
    "    simulate_pitch_outcome(batter=b1, pitcher=p1)\n",
    "    print('\\n')"
   ]
  },
  {
   "cell_type": "markdown",
   "id": "cb77b609-3946-4c37-8fef-e0a8929a592a",
   "metadata": {
    "jp-MarkdownHeadingCollapsed": true,
    "tags": []
   },
   "source": [
    "#### Define Ballpark class"
   ]
  },
  {
   "cell_type": "code",
   "execution_count": null,
   "id": "95c501af-3d00-4196-ac17-deb27b7d1cc3",
   "metadata": {},
   "outputs": [],
   "source": [
    "class Ballpark:\n",
    "    def __init__(self, name):\n",
    "        \"\"\"\n",
    "        All distances in feet\n",
    "        \"\"\"\n",
    "        self.name = name\n",
    "        self.homeplate = (convert_feet(0), convert_feet(0), convert_feet(0))\n",
    "        self.firstbase = (convert_feet(90), convert_feet(0), convert_feet(0))\n",
    "        self.secondbase = (convert_feet(90), convert_feet(90), convert_feet(0))\n",
    "        self.thirdbase = (convert_feet(0), convert_feet(90), convert_feet(0))\n",
    "        self.right_deep = (convert_feet(350), convert_feet(0), convert_feet(10))\n",
    "        self.center_deep = (convert_feet(350), convert_feet(350), convert_feet(10))\n",
    "        self.left_deep = (convert_feet(0), convert_feet(350), convert_feet(10)) "
   ]
  },
  {
   "cell_type": "markdown",
   "id": "ec01a92e-2e9e-4dd3-8adf-c167f23434ea",
   "metadata": {
    "tags": []
   },
   "source": [
    "#### Define Game class"
   ]
  },
  {
   "cell_type": "code",
   "execution_count": null,
   "id": "58e9f04b-faa7-4b45-96b9-5bd1affe82d3",
   "metadata": {},
   "outputs": [],
   "source": [
    "class Game:\n",
    "    def __init__(self, idx, home_team=None, away_team=None, ballpark=None):\n",
    "        self.idx = idx\n",
    "        self.home_team = home_team\n",
    "        self.away_team = away_team\n",
    "        self.ballpark = ballpark\n",
    "        self.runner_on_first = False\n",
    "        self.runner_on_second = False\n",
    "        self.runner_on_third = False\n",
    "        self.home_score = 0\n",
    "        self.away_score = 0\n",
    "        self.inning = 0\n",
    "    \n",
    "    def simulate_pitch(self):\n",
    "        pass"
   ]
  },
  {
   "cell_type": "markdown",
   "id": "3c1c19d0-a51b-41f4-b504-73bed17c6534",
   "metadata": {},
   "source": [
    "#### Testing"
   ]
  },
  {
   "cell_type": "code",
   "execution_count": 152,
   "id": "24ac2fad-8f30-4578-bf31-e61d60253023",
   "metadata": {},
   "outputs": [
    {
     "name": "stdout",
     "output_type": "stream",
     "text": [
      "dict_items([('fastball', {'frequency': 0.6, 'velocity_scaler': 1.0, 'spin_scaler': 1.0, 'accuracy_scaler': 1.0}), ('changup', {'frequency': 0.2, 'velocity_scaler': 0.8, 'spin_scaler': 0.8, 'accuracy_scaler': 0.95}), ('slider', {'frequency': 0.1, 'velocity_scaler': 0.8, 'spin_scaler': 1.2, 'accuracy_scaler': 0.8}), ('curveball', {'frequency': 0.1, 'velocity_scaler': 0.7, 'spin_scaler': 1.2, 'accuracy_scaler': 0.8})])\n",
      "\n",
      "\n",
      "fastball {'frequency': 0.6, 'velocity_scaler': 1.0, 'spin_scaler': 1.0, 'accuracy_scaler': 1.0}\n",
      "0.6\n",
      "changup {'frequency': 0.2, 'velocity_scaler': 0.8, 'spin_scaler': 0.8, 'accuracy_scaler': 0.95}\n",
      "0.2\n",
      "slider {'frequency': 0.1, 'velocity_scaler': 0.8, 'spin_scaler': 1.2, 'accuracy_scaler': 0.8}\n",
      "0.1\n",
      "curveball {'frequency': 0.1, 'velocity_scaler': 0.7, 'spin_scaler': 1.2, 'accuracy_scaler': 0.8}\n",
      "0.1\n",
      "\n",
      "\n",
      "\n",
      "\n"
     ]
    },
    {
     "data": {
      "text/plain": [
       "1.0"
      ]
     },
     "execution_count": 152,
     "metadata": {},
     "output_type": "execute_result"
    }
   ],
   "source": [
    "p1 = Pitcher()\n",
    "b1 = PositionPlayer()\n",
    "\n",
    "print(p1.pitches.items())\n",
    "print('\\n')\n",
    "for pitch_type, pitch_attributes in p1.pitches.items():\n",
    "    print(pitch_type, pitch_attributes)\n",
    "    print(pitch_attributes['frequency'])\n",
    "print('\\n')\n",
    "frq = [pitch_attributes['frequency'] for pitch_type, pitch_attributes in p1.pitches.items()]\n",
    "frq\n",
    "\n",
    "print('\\n')\n",
    "pitch_pop = list(p1.pitches.keys())\n",
    "pitch_pop\n",
    "\n",
    "fastball = p1.pitches['fastball']\n",
    "fastball\n",
    "\n",
    "fastball['velocity_scaler']"
   ]
  }
 ],
 "metadata": {
  "kernelspec": {
   "display_name": "Python (baseball-py)",
   "language": "python",
   "name": "baseball-py"
  },
  "language_info": {
   "codemirror_mode": {
    "name": "ipython",
    "version": 3
   },
   "file_extension": ".py",
   "mimetype": "text/x-python",
   "name": "python",
   "nbconvert_exporter": "python",
   "pygments_lexer": "ipython3",
   "version": "3.9.6"
  }
 },
 "nbformat": 4,
 "nbformat_minor": 5
}
